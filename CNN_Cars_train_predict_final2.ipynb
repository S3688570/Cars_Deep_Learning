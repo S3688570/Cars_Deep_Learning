{
  "nbformat": 4,
  "nbformat_minor": 0,
  "metadata": {
    "colab": {
      "name": "CNN_Cars_train_predict_final2.ipynb",
      "provenance": [],
      "collapsed_sections": [],
      "toc_visible": true,
      "include_colab_link": true
    },
    "kernelspec": {
      "name": "python3",
      "display_name": "Python 3"
    },
    "accelerator": "GPU"
  },
  "cells": [
    {
      "cell_type": "markdown",
      "metadata": {
        "id": "view-in-github",
        "colab_type": "text"
      },
      "source": [
        "<a href=\"https://colab.research.google.com/github/S3688570/Cars_Deep_Learning/blob/master/CNN_Cars_train_predict_final2.ipynb\" target=\"_parent\"><img src=\"https://colab.research.google.com/assets/colab-badge.svg\" alt=\"Open In Colab\"/></a>"
      ]
    },
    {
      "cell_type": "markdown",
      "metadata": {
        "id": "kQGGygtl9isu",
        "colab_type": "text"
      },
      "source": [
        "#Deep Learning Model to Recognize Vehicle Accidents"
      ]
    },
    {
      "cell_type": "code",
      "metadata": {
        "id": "8rB2xkajTjai",
        "colab_type": "code",
        "outputId": "e8b8a72f-11fa-4e83-e8c4-4612ed774d70",
        "colab": {
          "base_uri": "https://localhost:8080/",
          "height": 56
        }
      },
      "source": [
        "from google.colab import drive\n",
        "drive.mount('/content/drive/')"
      ],
      "execution_count": 0,
      "outputs": [
        {
          "output_type": "stream",
          "text": [
            "Drive already mounted at /content/drive/; to attempt to forcibly remount, call drive.mount(\"/content/drive/\", force_remount=True).\n"
          ],
          "name": "stdout"
        }
      ]
    },
    {
      "cell_type": "code",
      "metadata": {
        "id": "dk1kP7IYTmfb",
        "colab_type": "code",
        "outputId": "cb17e68e-31f2-463f-b47e-389f0cb074ca",
        "colab": {
          "base_uri": "https://localhost:8080/",
          "height": 36
        }
      },
      "source": [
        "!ls \"/content/drive/My Drive/\""
      ],
      "execution_count": 0,
      "outputs": [
        {
          "output_type": "stream",
          "text": [
            "'Colab Notebooks'  'Getting started.pdf'\n"
          ],
          "name": "stdout"
        }
      ]
    },
    {
      "cell_type": "code",
      "metadata": {
        "id": "qBIUNfwR55nO",
        "colab_type": "code",
        "colab": {}
      },
      "source": [
        "!pip install -U -q PyDrive"
      ],
      "execution_count": 0,
      "outputs": []
    },
    {
      "cell_type": "code",
      "metadata": {
        "id": "RisOwKHruLri",
        "colab_type": "code",
        "colab": {}
      },
      "source": [
        ""
      ],
      "execution_count": 0,
      "outputs": []
    },
    {
      "cell_type": "code",
      "metadata": {
        "id": "BveKLU7ekRIW",
        "colab_type": "code",
        "colab": {}
      },
      "source": [
        "# from google.colab import files\n",
        "# uploaded = files.upload()"
      ],
      "execution_count": 0,
      "outputs": []
    },
    {
      "cell_type": "markdown",
      "metadata": {
        "id": "rZs8D8N6REOH",
        "colab_type": "text"
      },
      "source": [
        "# New Section"
      ]
    },
    {
      "cell_type": "markdown",
      "metadata": {
        "id": "ucsAo4jh9Zxq",
        "colab_type": "text"
      },
      "source": [
        "##Import Keras library and packages"
      ]
    },
    {
      "cell_type": "code",
      "metadata": {
        "id": "af4N7DIEOoUv",
        "colab_type": "code",
        "colab": {}
      },
      "source": [
        "# Importing the Keras libraries and packages\n",
        "from sklearn.metrics import classification_report, confusion_matrix\n",
        "from keras.layers import Convolution2D, MaxPooling2D, Dropout\n",
        "from keras.models import Sequential\n",
        "from keras.layers import Flatten\n",
        "from keras.layers import Dense\n",
        "from keras import backend as K\n",
        "from keras.preprocessing import image\n",
        "from keras import regularizers\n",
        "from PIL import Image\n",
        "from pathlib import Path\n",
        "import numpy as np\n",
        "import matplotlib.pyplot as plt\n",
        "import os"
      ],
      "execution_count": 0,
      "outputs": []
    },
    {
      "cell_type": "markdown",
      "metadata": {
        "id": "K9ses6qZ-I7g",
        "colab_type": "text"
      },
      "source": [
        "##Set parameters"
      ]
    },
    {
      "cell_type": "code",
      "metadata": {
        "id": "SvGsv7bsebdy",
        "colab_type": "code",
        "cellView": "form",
        "colab": {}
      },
      "source": [
        "epochs = 50 #@param {type:\"number\"}\n",
        "validation_steps = 32 #@param {type:\"number\"}\n",
        "img_height = 128 #@param {type:\"integer\"}\n",
        "img_width = 128 #@param {type:\"integer\"}\n",
        "batch_size = 32 #@param {type:\"number\"}\n"
      ],
      "execution_count": 0,
      "outputs": []
    },
    {
      "cell_type": "markdown",
      "metadata": {
        "id": "kuJeETgH-NkZ",
        "colab_type": "text"
      },
      "source": [
        "##Set data filepaths"
      ]
    },
    {
      "cell_type": "code",
      "metadata": {
        "id": "XI1Fuyyu6XuD",
        "colab_type": "code",
        "outputId": "fcb8990d-df02-460b-cf17-82abe8b03387",
        "colab": {
          "base_uri": "https://localhost:8080/",
          "height": 249
        }
      },
      "source": [
        "# trainingCarImages = os.listdir('/content/drive/My Drive/Colab Notebooks/cars_dl/cars/training_set/car/')\n",
        "# print (\"Number of Training car images - \",str(len(trainingCarImages)))\n",
        "\n",
        "# trainingCrashImages = os.listdir('/content/drive/My Drive/Colab Notebooks/cars_dl/cars/training_set/crash/')\n",
        "# print (\"Number of Training crash images - \",str(len(trainingCrashImages)))\n",
        "\n",
        "# validCarImages = os.listdir('/content/drive/My Drive/Colab Notebooks/cars_dl/cars/val_set/car/')\n",
        "# print (\"Number of Validation car images - \",str(len(validCarImages)))\n",
        "\n",
        "# validCrashImages = os.listdir('/content/drive/My Drive/Colab Notebooks/cars_dl/cars/val_set/crash/')\n",
        "# print (\"Number of Validation crash images - \",str(len(validCrashImages)))\n",
        "\n",
        "# testCarImages = os.listdir('/content/drive/My Drive/Colab Notebooks/cars_dl/cars/test_set/car/')\n",
        "# print (\"Number of Test car images - \",str(len(testCarImages)))\n",
        "\n",
        "# testCrashImages = os.listdir('/content/drive/My Drive/Colab Notebooks/cars_dl/cars/test_set/crash/')\n",
        "# print (\"Number of Test crash images - \",str(len(testCrashImages)))\n",
        "\n",
        "\n",
        "trainingCarImages = os.listdir('cars/cars/training_set/car/')\n",
        "print (\"Number of Training car images - \",str(len(trainingCarImages)))\n",
        "\n",
        "trainingCrashImages = os.listdir('cars/cars/training_set/crash/')\n",
        "print (\"Number of Training crash images - \",str(len(trainingCrashImages)))\n",
        "\n",
        "validCarImages = os.listdir('cars/cars/val_set/car/')\n",
        "print (\"Number of Validation car images - \",str(len(validCarImages)))\n",
        "\n",
        "validCrashImages = os.listdir('cars/cars/val_set/crash/')\n",
        "print (\"Number of Validation crash images - \",str(len(validCrashImages)))\n",
        "\n",
        "testCarImages = os.listdir('cars/cars/test_set/car/')\n",
        "print (\"Number of Test car images - \",str(len(testCarImages)))\n",
        "\n",
        "testCrashImages = os.listdir('cars/cars/test_set/crash/')\n",
        "print (\"Number of Test crash images - \",str(len(testCrashImages)))"
      ],
      "execution_count": 0,
      "outputs": [
        {
          "output_type": "error",
          "ename": "FileNotFoundError",
          "evalue": "ignored",
          "traceback": [
            "\u001b[0;31m---------------------------------------------------------------------------\u001b[0m",
            "\u001b[0;31mFileNotFoundError\u001b[0m                         Traceback (most recent call last)",
            "\u001b[0;32m<ipython-input-20-c3ed5e9e21d2>\u001b[0m in \u001b[0;36m<module>\u001b[0;34m()\u001b[0m\n\u001b[1;32m      1\u001b[0m \u001b[0;34m\u001b[0m\u001b[0m\n\u001b[1;32m      2\u001b[0m \u001b[0;34m\u001b[0m\u001b[0m\n\u001b[0;32m----> 3\u001b[0;31m \u001b[0mtrainingCarImages\u001b[0m \u001b[0;34m=\u001b[0m \u001b[0mos\u001b[0m\u001b[0;34m.\u001b[0m\u001b[0mlistdir\u001b[0m\u001b[0;34m(\u001b[0m\u001b[0;34m'cars/cars/training_set/car/'\u001b[0m\u001b[0;34m)\u001b[0m\u001b[0;34m\u001b[0m\u001b[0;34m\u001b[0m\u001b[0m\n\u001b[0m\u001b[1;32m      4\u001b[0m \u001b[0mprint\u001b[0m \u001b[0;34m(\u001b[0m\u001b[0;34m\"Number of Training car images - \"\u001b[0m\u001b[0;34m,\u001b[0m\u001b[0mstr\u001b[0m\u001b[0;34m(\u001b[0m\u001b[0mlen\u001b[0m\u001b[0;34m(\u001b[0m\u001b[0mtrainingCarImages\u001b[0m\u001b[0;34m)\u001b[0m\u001b[0;34m)\u001b[0m\u001b[0;34m)\u001b[0m\u001b[0;34m\u001b[0m\u001b[0;34m\u001b[0m\u001b[0m\n\u001b[1;32m      5\u001b[0m \u001b[0;34m\u001b[0m\u001b[0m\n",
            "\u001b[0;31mFileNotFoundError\u001b[0m: [Errno 2] No such file or directory: 'cars/cars/training_set/car/'"
          ]
        }
      ]
    },
    {
      "cell_type": "markdown",
      "metadata": {
        "id": "l-CtxNNf-Vnp",
        "colab_type": "text"
      },
      "source": [
        "##Print image from training folder"
      ]
    },
    {
      "cell_type": "code",
      "metadata": {
        "id": "CfEoAIgB6g8i",
        "colab_type": "code",
        "colab": {}
      },
      "source": [
        "trainFilename = '/content/drive/My Drive/Colab Notebooks/cars_dl/cars/training_set/car/'+trainingCarImages[2]\n",
        "dimage = Image.open(trainFilename)\n",
        "dimage"
      ],
      "execution_count": 0,
      "outputs": []
    },
    {
      "cell_type": "markdown",
      "metadata": {
        "id": "vWUunxSp-cGD",
        "colab_type": "text"
      },
      "source": [
        "##Print image from validation folder"
      ]
    },
    {
      "cell_type": "code",
      "metadata": {
        "id": "9ntvgiFu7E7h",
        "colab_type": "code",
        "colab": {}
      },
      "source": [
        "validFilename = '/content/drive/My Drive/Colab Notebooks/cars_dl/cars/val_set/car/'+validCarImages[5]\n",
        "dimage = Image.open(validFilename)\n",
        "dimage"
      ],
      "execution_count": 0,
      "outputs": []
    },
    {
      "cell_type": "markdown",
      "metadata": {
        "id": "SnRhqLw1-hDv",
        "colab_type": "text"
      },
      "source": [
        "##Print image from test folder"
      ]
    },
    {
      "cell_type": "code",
      "metadata": {
        "id": "gX9ANjfW7Kta",
        "colab_type": "code",
        "colab": {}
      },
      "source": [
        "testFilename = '/content/drive/My Drive/Colab Notebooks/cars_dl/cars/test_set/car/'+ testCarImages[30]\n",
        "dimage = Image.open(testFilename)\n",
        "dimage"
      ],
      "execution_count": 0,
      "outputs": []
    },
    {
      "cell_type": "markdown",
      "metadata": {
        "id": "MXceEhrn-oSR",
        "colab_type": "text"
      },
      "source": [
        "###Determine image dimensions"
      ]
    },
    {
      "cell_type": "code",
      "metadata": {
        "id": "ZG6nE5yi7PJZ",
        "colab_type": "code",
        "colab": {}
      },
      "source": [
        "train_data_dir = '/content/drive/My Drive/Colab Notebooks/cars_dl/cars/training_set/'\n",
        "validation_data_dir = '/content/drive/My Drive/Colab Notebooks/cars_dl/cars/val_set/'\n",
        "test_data_dir = '/content/drive/My Drive/Colab Notebooks/cars_dl/cars/test_set/'\n",
        "nb_train_samples = trainingCarImages + trainingCrashImages\n",
        "nb_validation_samples = validCarImages + validCrashImages\n",
        "nb_test_samples = testCarImages + testCrashImages\n",
        "\n",
        "if K.image_data_format() == 'channels_first':\n",
        "    input_shape = (3, img_width, img_height)\n",
        "else:\n",
        "    input_shape = (img_width, img_height, 3)\n",
        "\n",
        "print(input_shape)"
      ],
      "execution_count": 0,
      "outputs": []
    },
    {
      "cell_type": "code",
      "metadata": {
        "id": "LSBVJCtw7tBv",
        "colab_type": "code",
        "colab": {}
      },
      "source": [
        "#Method to print several images in a single row \n",
        "def plots(img, figsize=(12,6), rows = 1, titles = 1):\n",
        "    if type(img[0]) is np.ndarray:\n",
        "        img = np.array(img).astype(np.float_)\n",
        "        if (img.shape[-1] != 3):\n",
        "            img = img.transpose((0, 2, 3, 1))\n",
        "    f =plt.figure(figsize = figsize)\n",
        "    cols = 7//rows if (len(img) % 2 == 0) else len(img)//rows + 1\n",
        "    for i in range(cols):\n",
        "        sp = f.add_subplot(rows, cols, i+1)\n",
        "        sp.axis('Off')\n",
        "        if titles is not None:\n",
        "            sp.set_title(titles[i], fontsize = 10)\n",
        "        plt.imshow(img[i], interpolation = None if np.interp else 'none')"
      ],
      "execution_count": 0,
      "outputs": []
    },
    {
      "cell_type": "markdown",
      "metadata": {
        "id": "dFAHlp1z-9Ea",
        "colab_type": "text"
      },
      "source": [
        "##Create CNN model"
      ]
    },
    {
      "cell_type": "code",
      "metadata": {
        "id": "qrY8lbougFhr",
        "colab_type": "code",
        "cellView": "code",
        "colab": {}
      },
      "source": [
        "# Initialising the CNN\n",
        "classifier = Sequential()\n",
        "\n",
        "# Layer 1 - convolution\n",
        "classifier.add(Convolution2D(32, (3, 3), \n",
        "              input_shape = (img_width, img_height, 3), \n",
        "              activation = 'relu'))                        # Convolution\n",
        "classifier.add(MaxPooling2D(pool_size = (2, 2)))          # MaxPooling\n",
        "classifier.add(Dropout(0.25))                             # Dropout\n",
        "\n",
        "\n",
        "#Add another convolutional layer\n",
        "# classifier.add(Convolution2D(32, 3, 3, \n",
        "#               activation = 'relu'))\n",
        "# classifier.add(MaxPooling2D(pool_size = (2, 2)))\n",
        "\n",
        "# Layer 2 - convolution\n",
        "classifier.add(Convolution2D(32, (3, 3), \n",
        "              activation = 'relu', \n",
        "              kernel_regularizer=regularizers.l2(0.01)))  # Convolution layer\n",
        "classifier.add(MaxPooling2D(pool_size = (2, 2)))          # MaxPooling\n",
        "classifier.add(Dropout(0.25))                             # Dropout\n",
        "\n",
        "# Layer 3 - convolution\n",
        "classifier.add(Convolution2D(32, (3, 3), \n",
        "              activation = 'relu'))                       # Convolution layer\n",
        "classifier.add(MaxPooling2D(pool_size = (2, 2)))          # MaxPooling\n",
        "classifier.add(Dropout(0.25))                             # Dropout\n",
        "\n",
        "# Layer 4 - convolution\n",
        "classifier.add(Convolution2D(32, (3, 3), \n",
        "              activation = 'relu'))                       # Convolution layer\n",
        "classifier.add(MaxPooling2D(pool_size = (2, 2)))          # MaxPooling\n",
        "classifier.add(Dropout(0.25))                             # Dropout\n",
        "\n",
        "classifier.add(Flatten())                                 # Flattening\n",
        "\n",
        "# Fully connected layer\n",
        "classifier.add(Dense(output_dim = 128, \n",
        "                     activation = 'relu'))                # Dense layer\n",
        "classifier.add(Dropout(0.25))                             # Dropout\n",
        "classifier.add(Dense(output_dim = 2, \n",
        "                     activation = 'softmax'))             # Output\n",
        "\n",
        "classifier.summary()"
      ],
      "execution_count": 0,
      "outputs": []
    },
    {
      "cell_type": "markdown",
      "metadata": {
        "id": "3_roKgIODQMR",
        "colab_type": "text"
      },
      "source": [
        "##Compiling the CNN"
      ]
    },
    {
      "cell_type": "code",
      "metadata": {
        "id": "wm_iL_TODNC8",
        "colab_type": "code",
        "colab": {}
      },
      "source": [
        "classifier.compile(optimizer = 'adam', loss = 'binary_crossentropy', metrics = ['accuracy'])"
      ],
      "execution_count": 0,
      "outputs": []
    },
    {
      "cell_type": "markdown",
      "metadata": {
        "id": "uFHW656-_omY",
        "colab_type": "text"
      },
      "source": [
        "##Data standardization and augmentation of training data"
      ]
    },
    {
      "cell_type": "code",
      "metadata": {
        "id": "kChvNzosiv-H",
        "colab_type": "code",
        "colab": {}
      },
      "source": [
        "from keras.preprocessing.image import ImageDataGenerator\n",
        "\n",
        "train_datagen = ImageDataGenerator(rescale = 1./255,\n",
        "                                    shear_range = 0.2,\n",
        "                                    zoom_range = 0.2,\n",
        "                                    horizontal_flip = True\n",
        "                                   )\n",
        "\n",
        "training_set = train_datagen.flow_from_directory(train_data_dir,\n",
        "                                                 target_size = (img_width, img_height),\n",
        "                                                 batch_size = batch_size,\n",
        "                                                 class_mode = 'categorical',\n",
        "                                                 shuffle=True,\n",
        "                                                 seed=42)\n",
        "\n",
        "test_datagen = ImageDataGenerator(rescale = 1./255)\n",
        "\n",
        "val_set = test_datagen.flow_from_directory(validation_data_dir,\n",
        "                                            target_size = (img_width, img_height),\n",
        "                                            batch_size = batch_size,\n",
        "                                            class_mode = 'categorical',\n",
        "                                            shuffle=True,\n",
        "                                            seed=42)\n",
        "\n",
        "test_set = test_datagen.flow_from_directory(test_data_dir,\n",
        "                                            target_size = (img_width, img_height),\n",
        "                                            batch_size = 1,\n",
        "                                            class_mode = 'categorical',\n",
        "                                            shuffle=True,\n",
        "                                            seed=42)\n"
      ],
      "execution_count": 0,
      "outputs": []
    },
    {
      "cell_type": "markdown",
      "metadata": {
        "id": "p6-B3QX_AzO5",
        "colab_type": "text"
      },
      "source": [
        "##Print normalized and re-sized images from training set"
      ]
    },
    {
      "cell_type": "code",
      "metadata": {
        "id": "wV9rrD1_8JVl",
        "colab_type": "code",
        "colab": {}
      },
      "source": [
        "imgs, labels = next(training_set)\n",
        "plots(imgs, titles = labels)"
      ],
      "execution_count": 0,
      "outputs": []
    },
    {
      "cell_type": "markdown",
      "metadata": {
        "id": "Une8PFHDA7ov",
        "colab_type": "text"
      },
      "source": [
        "##Print normalized and re-sized images from validation set"
      ]
    },
    {
      "cell_type": "code",
      "metadata": {
        "id": "8p07jKpd8sO_",
        "colab_type": "code",
        "colab": {}
      },
      "source": [
        "imgs, labels = next(val_set)\n",
        "plots(imgs, titles = labels)"
      ],
      "execution_count": 0,
      "outputs": []
    },
    {
      "cell_type": "code",
      "metadata": {
        "id": "k5YhNWiMUSh3",
        "colab_type": "code",
        "colab": {}
      },
      "source": [
        "#Method to identify and remove corrupted images\n",
        "def my_gen(gen):\n",
        "    while True:\n",
        "        try:\n",
        "            imgs, labels = next(gen)\n",
        "            yield imgs, labels\n",
        "        except:\n",
        "            pass"
      ],
      "execution_count": 0,
      "outputs": []
    },
    {
      "cell_type": "markdown",
      "metadata": {
        "id": "tBBnjNDIBWrg",
        "colab_type": "text"
      },
      "source": [
        "##Training the CNN model"
      ]
    },
    {
      "cell_type": "code",
      "metadata": {
        "id": "4yT_JyeUi3x9",
        "colab_type": "code",
        "colab": {}
      },
      "source": [
        "history = classifier.fit_generator(my_gen(training_set),\n",
        "                         steps_per_epoch = 78,\n",
        "                         epochs = epochs,\n",
        "                         validation_data = val_set,\n",
        "                         validation_steps = validation_steps)"
      ],
      "execution_count": 0,
      "outputs": []
    },
    {
      "cell_type": "code",
      "metadata": {
        "id": "aBi6zaN1ZkoR",
        "colab_type": "code",
        "colab": {}
      },
      "source": [
        "# list all data in history\n",
        "print(history.history.keys())"
      ],
      "execution_count": 0,
      "outputs": []
    },
    {
      "cell_type": "markdown",
      "metadata": {
        "id": "oaf7pRnUbhlk",
        "colab_type": "text"
      },
      "source": [
        "## Save neural network structure"
      ]
    },
    {
      "cell_type": "code",
      "metadata": {
        "id": "1wH_wQMQbfaQ",
        "colab_type": "code",
        "colab": {}
      },
      "source": [
        "model_structure = classifier.to_json()\n",
        "f = Path(\"/content/drive/My Drive/Colab Notebooks/model_structure.json\")\n",
        "f.write_text(model_structure)"
      ],
      "execution_count": 0,
      "outputs": []
    },
    {
      "cell_type": "markdown",
      "metadata": {
        "id": "J4wTvMPQb2k1",
        "colab_type": "text"
      },
      "source": [
        "## Save neural network's trained weights"
      ]
    },
    {
      "cell_type": "code",
      "metadata": {
        "id": "FT3oiH7gbz5G",
        "colab_type": "code",
        "colab": {}
      },
      "source": [
        "# Save neural network's trained weights\n",
        "classifier.save_weights(\"/content/drive/My Drive/Colab Notebooks/model_weights.h5\")"
      ],
      "execution_count": 0,
      "outputs": []
    },
    {
      "cell_type": "markdown",
      "metadata": {
        "id": "XZJOEenfDwLa",
        "colab_type": "text"
      },
      "source": [
        "##Plot training and validation accuracy per epoch"
      ]
    },
    {
      "cell_type": "code",
      "metadata": {
        "id": "nVLdW5p-ZlzH",
        "colab_type": "code",
        "colab": {}
      },
      "source": [
        "import matplotlib.pyplot as plt\n",
        "plt.plot(history.history['acc'])\n",
        "plt.plot(history.history['val_acc'])\n",
        "plt.title('Model Accuracy')\n",
        "plt.ylabel('Accuracy')\n",
        "plt.xlabel('Epoch')\n",
        "plt.legend(['train', 'test'], loc='upper left')\n",
        "plt.show()"
      ],
      "execution_count": 0,
      "outputs": []
    },
    {
      "cell_type": "markdown",
      "metadata": {
        "id": "q49FIZyED9de",
        "colab_type": "text"
      },
      "source": [
        "##Plot training and validation loss per epoch"
      ]
    },
    {
      "cell_type": "code",
      "metadata": {
        "id": "TUuTRb4xZo0v",
        "colab_type": "code",
        "colab": {}
      },
      "source": [
        "plt.plot(history.history['loss'])\n",
        "plt.plot(history.history['val_loss'])\n",
        "plt.title('model loss')\n",
        "plt.ylabel('loss')\n",
        "plt.xlabel('epoch')\n",
        "plt.legend(['train', 'test'], loc='upper left')\n",
        "plt.show()"
      ],
      "execution_count": 0,
      "outputs": []
    },
    {
      "cell_type": "code",
      "metadata": {
        "id": "G7LnZCX8sUqT",
        "colab_type": "code",
        "colab": {}
      },
      "source": [
        "training_set.class_indices"
      ],
      "execution_count": 0,
      "outputs": []
    },
    {
      "cell_type": "markdown",
      "metadata": {
        "id": "uZ9AUzoqEFIg",
        "colab_type": "text"
      },
      "source": [
        "##Prediction"
      ]
    },
    {
      "cell_type": "code",
      "metadata": {
        "id": "ujj1Aj-TsxOk",
        "colab_type": "code",
        "colab": {}
      },
      "source": [
        "testCarImages = os.listdir('/content/drive/My Drive/Colab Notebooks/cars_dl/cars/test_set/')\n",
        "testFilename = '/content/drive/My Drive/Colab Notebooks/cars_dl/cars/test_set/' + testCarImages[20]\n",
        "\n",
        "test_image = image.load_img(testFilename, target_size = (img_width, img_height))\n",
        "test_image = image.img_to_array(test_image)\n",
        "test_image = np.expand_dims(test_image, axis=0)\n",
        "result = classifier.predict(test_image)\n",
        "test_set.class_indices\n",
        "if result[0][0] < 0.3:\n",
        "  prediction = 'No'\n",
        "elif result[0][0] > 0.7: \n",
        "  prediction = 'Yes'\n",
        "else:\n",
        "  prediction = 'Unsure'\n",
        "\n",
        "\n",
        "dimage = Image.open(testFilename)\n",
        "dimage\n"
      ],
      "execution_count": 0,
      "outputs": []
    },
    {
      "cell_type": "code",
      "metadata": {
        "id": "wQqgIPgq8qDA",
        "colab_type": "code",
        "colab": {}
      },
      "source": [
        "print(prediction + \": \" + str(result[0][0]))"
      ],
      "execution_count": 0,
      "outputs": []
    },
    {
      "cell_type": "markdown",
      "metadata": {
        "id": "WGxl8OzRm1Fa",
        "colab_type": "text"
      },
      "source": [
        "##Confution Matrix and Classification Report"
      ]
    },
    {
      "cell_type": "code",
      "metadata": {
        "id": "lamy7OIrfDb_",
        "colab_type": "code",
        "colab": {}
      },
      "source": [
        "Y_pred = classifier.predict_generator(test_set, len(validCrashImages)*2 // batch_size + 1)\n",
        "\n",
        "y_pred = np.argmax(Y_pred, axis=1)\n",
        "\n",
        "print('Confusion Matrix')\n",
        "\n",
        "print(confusion_matrix(test_set.classes, y_pred))\n",
        "\n",
        "print('Classification Report')\n",
        "\n",
        "target_names = ['Yes', 'Unsure', 'No']\n",
        "\n",
        "print(classification_report(test_set.classes, y_pred, target_names=target_names))"
      ],
      "execution_count": 0,
      "outputs": []
    },
    {
      "cell_type": "markdown",
      "metadata": {
        "id": "HVJqlQjtaxyt",
        "colab_type": "text"
      },
      "source": [
        ""
      ]
    }
  ]
}