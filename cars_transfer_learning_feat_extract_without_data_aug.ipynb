{
  "nbformat": 4,
  "nbformat_minor": 0,
  "metadata": {
    "colab": {
      "name": "cars_transfer_learning_feat_extract_without_data_aug.ipynb",
      "provenance": [],
      "include_colab_link": true
    },
    "kernelspec": {
      "name": "python3",
      "display_name": "Python 3"
    },
    "accelerator": "GPU"
  },
  "cells": [
    {
      "cell_type": "markdown",
      "metadata": {
        "id": "view-in-github",
        "colab_type": "text"
      },
      "source": [
        "<a href=\"https://colab.research.google.com/github/S3688570/Cars_Deep_Learning/blob/master/cars_transfer_learning_feat_extract_without_data_aug.ipynb\" target=\"_parent\"><img src=\"https://colab.research.google.com/assets/colab-badge.svg\" alt=\"Open In Colab\"/></a>"
      ]
    },
    {
      "cell_type": "markdown",
      "metadata": {
        "id": "yW0ObdGuGUpD",
        "colab_type": "text"
      },
      "source": [
        "#CNN model of vehicle recognition - Feature extraction without data augmentation"
      ]
    },
    {
      "cell_type": "code",
      "metadata": {
        "id": "9PnYFWksH0Xo",
        "colab_type": "code",
        "outputId": "3deab8a7-e436-4301-8a0f-2516320a4059",
        "colab": {
          "base_uri": "https://localhost:8080/",
          "height": 251
        }
      },
      "source": [
        "from google.colab import drive, files\n",
        "drive.mount('/content/gdrive')\n",
        "gdrive_path = 'gdrive/My\\ Drive/Colab\\ Notebooks/'\n",
        "!rsync -ah --progress\\\n",
        "    {gdrive_path}cars_dl/*.zip\\\n",
        "    {gdrive_path}model_weights_final*.h5\\\n",
        "    {gdrive_path}model_struct_final*.json\\\n",
        "    '/content'\n",
        "!unzip -qo '*.zip'\n",
        "!rm *.zip"
      ],
      "execution_count": 1,
      "outputs": [
        {
          "output_type": "stream",
          "text": [
            "Go to this URL in a browser: https://accounts.google.com/o/oauth2/auth?client_id=947318989803-6bn6qk8qdgf4n4g3pfee6491hc0brc4i.apps.googleusercontent.com&redirect_uri=urn%3Aietf%3Awg%3Aoauth%3A2.0%3Aoob&scope=email%20https%3A%2F%2Fwww.googleapis.com%2Fauth%2Fdocs.test%20https%3A%2F%2Fwww.googleapis.com%2Fauth%2Fdrive%20https%3A%2F%2Fwww.googleapis.com%2Fauth%2Fdrive.photos.readonly%20https%3A%2F%2Fwww.googleapis.com%2Fauth%2Fpeopleapi.readonly&response_type=code\n",
            "\n",
            "Enter your authorization code:\n",
            "··········\n",
            "Mounted at /content/gdrive\n",
            "sending incremental file list\n",
            "cars-20191002T050118Z-001.zip\n",
            "        490.68M 100%   72.09MB/s    0:00:06 (xfr#1, to-chk=2/3)\n",
            "model_struct_final.json\n",
            "          5.33K 100%    7.19kB/s    0:00:00 (xfr#2, to-chk=1/3)\n",
            "model_weights_final.h5\n",
            "          1.33M 100%    1.12MB/s    0:00:01 (xfr#3, to-chk=0/3)\n"
          ],
          "name": "stdout"
        }
      ]
    },
    {
      "cell_type": "code",
      "metadata": {
        "id": "SvGsv7bsebdy",
        "colab_type": "code",
        "cellView": "form",
        "colab": {}
      },
      "source": [
        "epochs = 50 #@param {type:\"number\"}\n",
        "validation_steps = 32 #@param {type:\"number\"}\n",
        "img_height = 128 #@param {type:\"integer\"}\n",
        "img_width = 128 #@param {type:\"integer\"}\n",
        "batch_size = 32 #@param {type:\"number\"}\n"
      ],
      "execution_count": 0,
      "outputs": []
    },
    {
      "cell_type": "markdown",
      "metadata": {
        "id": "syNcQaJtIDLB",
        "colab_type": "text"
      },
      "source": [
        "##Example of using a pre-trained model (VGG16) as a classifier"
      ]
    },
    {
      "cell_type": "code",
      "metadata": {
        "id": "-zNDEE5yH5nC",
        "colab_type": "code",
        "colab": {
          "base_uri": "https://localhost:8080/",
          "height": 428
        },
        "outputId": "a6555090-ca54-4923-950f-725df6717c91"
      },
      "source": [
        "# Load Keras' VGG16 model that was pre-trained against the ImageNet database\n",
        "from keras.applications import VGG16\n",
        "conv_base = VGG16(weights='imagenet',\n",
        "include_top=False,\n",
        "input_shape=(128, 128, 3))"
      ],
      "execution_count": 3,
      "outputs": [
        {
          "output_type": "stream",
          "text": [
            "Using TensorFlow backend.\n"
          ],
          "name": "stderr"
        },
        {
          "output_type": "stream",
          "text": [
            "WARNING:tensorflow:From /usr/local/lib/python3.6/dist-packages/keras/backend/tensorflow_backend.py:66: The name tf.get_default_graph is deprecated. Please use tf.compat.v1.get_default_graph instead.\n",
            "\n",
            "WARNING:tensorflow:From /usr/local/lib/python3.6/dist-packages/keras/backend/tensorflow_backend.py:541: The name tf.placeholder is deprecated. Please use tf.compat.v1.placeholder instead.\n",
            "\n",
            "WARNING:tensorflow:From /usr/local/lib/python3.6/dist-packages/keras/backend/tensorflow_backend.py:4432: The name tf.random_uniform is deprecated. Please use tf.random.uniform instead.\n",
            "\n",
            "WARNING:tensorflow:From /usr/local/lib/python3.6/dist-packages/keras/backend/tensorflow_backend.py:4267: The name tf.nn.max_pool is deprecated. Please use tf.nn.max_pool2d instead.\n",
            "\n",
            "Downloading data from https://github.com/fchollet/deep-learning-models/releases/download/v0.1/vgg16_weights_tf_dim_ordering_tf_kernels_notop.h5\n",
            "58892288/58889256 [==============================] - 3s 0us/step\n",
            "WARNING:tensorflow:From /usr/local/lib/python3.6/dist-packages/keras/backend/tensorflow_backend.py:190: The name tf.get_default_session is deprecated. Please use tf.compat.v1.get_default_session instead.\n",
            "\n",
            "WARNING:tensorflow:From /usr/local/lib/python3.6/dist-packages/keras/backend/tensorflow_backend.py:197: The name tf.ConfigProto is deprecated. Please use tf.compat.v1.ConfigProto instead.\n",
            "\n",
            "WARNING:tensorflow:From /usr/local/lib/python3.6/dist-packages/keras/backend/tensorflow_backend.py:203: The name tf.Session is deprecated. Please use tf.compat.v1.Session instead.\n",
            "\n",
            "WARNING:tensorflow:From /usr/local/lib/python3.6/dist-packages/keras/backend/tensorflow_backend.py:207: The name tf.global_variables is deprecated. Please use tf.compat.v1.global_variables instead.\n",
            "\n",
            "WARNING:tensorflow:From /usr/local/lib/python3.6/dist-packages/keras/backend/tensorflow_backend.py:216: The name tf.is_variable_initialized is deprecated. Please use tf.compat.v1.is_variable_initialized instead.\n",
            "\n",
            "WARNING:tensorflow:From /usr/local/lib/python3.6/dist-packages/keras/backend/tensorflow_backend.py:223: The name tf.variables_initializer is deprecated. Please use tf.compat.v1.variables_initializer instead.\n",
            "\n"
          ],
          "name": "stdout"
        }
      ]
    },
    {
      "cell_type": "code",
      "metadata": {
        "id": "_NncYRTmE2ne",
        "colab_type": "code",
        "outputId": "0973ede9-3d6c-4471-eaf7-0956b9c7c029",
        "colab": {
          "base_uri": "https://localhost:8080/",
          "height": 839
        }
      },
      "source": [
        "# Summary of Keras' VGG16 model that was pre-trained against the ImageNet database\n",
        "conv_base.summary()"
      ],
      "execution_count": 4,
      "outputs": [
        {
          "output_type": "stream",
          "text": [
            "Model: \"vgg16\"\n",
            "_________________________________________________________________\n",
            "Layer (type)                 Output Shape              Param #   \n",
            "=================================================================\n",
            "input_1 (InputLayer)         (None, 128, 128, 3)       0         \n",
            "_________________________________________________________________\n",
            "block1_conv1 (Conv2D)        (None, 128, 128, 64)      1792      \n",
            "_________________________________________________________________\n",
            "block1_conv2 (Conv2D)        (None, 128, 128, 64)      36928     \n",
            "_________________________________________________________________\n",
            "block1_pool (MaxPooling2D)   (None, 64, 64, 64)        0         \n",
            "_________________________________________________________________\n",
            "block2_conv1 (Conv2D)        (None, 64, 64, 128)       73856     \n",
            "_________________________________________________________________\n",
            "block2_conv2 (Conv2D)        (None, 64, 64, 128)       147584    \n",
            "_________________________________________________________________\n",
            "block2_pool (MaxPooling2D)   (None, 32, 32, 128)       0         \n",
            "_________________________________________________________________\n",
            "block3_conv1 (Conv2D)        (None, 32, 32, 256)       295168    \n",
            "_________________________________________________________________\n",
            "block3_conv2 (Conv2D)        (None, 32, 32, 256)       590080    \n",
            "_________________________________________________________________\n",
            "block3_conv3 (Conv2D)        (None, 32, 32, 256)       590080    \n",
            "_________________________________________________________________\n",
            "block3_pool (MaxPooling2D)   (None, 16, 16, 256)       0         \n",
            "_________________________________________________________________\n",
            "block4_conv1 (Conv2D)        (None, 16, 16, 512)       1180160   \n",
            "_________________________________________________________________\n",
            "block4_conv2 (Conv2D)        (None, 16, 16, 512)       2359808   \n",
            "_________________________________________________________________\n",
            "block4_conv3 (Conv2D)        (None, 16, 16, 512)       2359808   \n",
            "_________________________________________________________________\n",
            "block4_pool (MaxPooling2D)   (None, 8, 8, 512)         0         \n",
            "_________________________________________________________________\n",
            "block5_conv1 (Conv2D)        (None, 8, 8, 512)         2359808   \n",
            "_________________________________________________________________\n",
            "block5_conv2 (Conv2D)        (None, 8, 8, 512)         2359808   \n",
            "_________________________________________________________________\n",
            "block5_conv3 (Conv2D)        (None, 8, 8, 512)         2359808   \n",
            "_________________________________________________________________\n",
            "block5_pool (MaxPooling2D)   (None, 4, 4, 512)         0         \n",
            "=================================================================\n",
            "Total params: 14,714,688\n",
            "Trainable params: 14,714,688\n",
            "Non-trainable params: 0\n",
            "_________________________________________________________________\n"
          ],
          "name": "stdout"
        }
      ]
    },
    {
      "cell_type": "markdown",
      "metadata": {
        "id": "eY6nzxZTfJK-",
        "colab_type": "text"
      },
      "source": [
        "##Number of images in the training, validation and test sets"
      ]
    },
    {
      "cell_type": "code",
      "metadata": {
        "id": "9OGfKPEufJsr",
        "colab_type": "code",
        "outputId": "31be1611-190f-4d02-f018-91c438efa96c",
        "colab": {
          "base_uri": "https://localhost:8080/",
          "height": 124
        }
      },
      "source": [
        "import os\n",
        "\n",
        "trainingCarImages = os.listdir('cars/training_set/car/')\n",
        "print (\"Number of Training car images - \",str(len(trainingCarImages)))\n",
        "\n",
        "trainingCrashImages = os.listdir('cars/training_set/crash/')\n",
        "print (\"Number of Training crash images - \",str(len(trainingCrashImages)))\n",
        "\n",
        "validCarImages = os.listdir('cars/val_set/car/')\n",
        "print (\"Number of Validation car images - \",str(len(validCarImages)))\n",
        "\n",
        "validCrashImages = os.listdir('cars/val_set/crash/')\n",
        "print (\"Number of Validation crash images - \",str(len(validCrashImages)))\n",
        "\n",
        "testCarImages = os.listdir('cars/test_set/car/')\n",
        "print (\"Number of Test car images - \",str(len(testCarImages)))\n",
        "\n",
        "testCrashImages = os.listdir('cars/test_set/crash/')\n",
        "print (\"Number of Test crash images - \",str(len(testCrashImages)))\n",
        "\n",
        "train_data_dir = 'cars/training_set/'\n",
        "validation_data_dir = 'cars/val_set/'\n",
        "test_data_dir = 'cars/test_set/'\n",
        "nb_train_samples = trainingCarImages + trainingCrashImages\n",
        "nb_validation_samples = validCarImages + validCrashImages\n",
        "nb_test_samples = testCarImages + testCrashImages"
      ],
      "execution_count": 5,
      "outputs": [
        {
          "output_type": "stream",
          "text": [
            "Number of Training car images -  1445\n",
            "Number of Training crash images -  1445\n",
            "Number of Validation car images -  375\n",
            "Number of Validation crash images -  372\n",
            "Number of Test car images -  129\n",
            "Number of Test crash images -  131\n"
          ],
          "name": "stdout"
        }
      ]
    },
    {
      "cell_type": "code",
      "metadata": {
        "id": "cDBuvX12g7c1",
        "colab_type": "code",
        "colab": {}
      },
      "source": [
        "#Method to identify and remove corrupted images\n",
        "def my_gen(gen):\n",
        "    while True:\n",
        "        try:\n",
        "            imgs, labels = next(gen)\n",
        "            yield imgs, labels\n",
        "        except:\n",
        "            pass"
      ],
      "execution_count": 0,
      "outputs": []
    },
    {
      "cell_type": "markdown",
      "metadata": {
        "id": "VMDsV6wYenOk",
        "colab_type": "text"
      },
      "source": [
        "##Extract features using the pre-trained convolutional base"
      ]
    },
    {
      "cell_type": "code",
      "metadata": {
        "id": "eDcVByaMemXA",
        "colab_type": "code",
        "outputId": "27cc242a-000e-442c-f19b-f9400c3107df",
        "colab": {
          "base_uri": "https://localhost:8080/",
          "height": 214
        }
      },
      "source": [
        "import os\n",
        "import numpy as np\n",
        "from keras.preprocessing.image import ImageDataGenerator\n",
        "\n",
        "datagen = ImageDataGenerator(rescale=1./255)\n",
        "batch_size = 10\n",
        "\n",
        "def extract_features(directory, sample_count):\n",
        "  features = np.zeros(shape=(sample_count, 4, 4, 512))\n",
        "  labels = np.zeros(shape=(sample_count))\n",
        "  generator = datagen.flow_from_directory(\n",
        "      directory,\n",
        "      target_size=(128, 128),\n",
        "      batch_size=batch_size,\n",
        "      class_mode='binary')\n",
        "  i = 0\n",
        "  generator = my_gen(generator)\n",
        "  for inputs_batch, labels_batch in generator:\n",
        "    features_batch = conv_base.predict(inputs_batch)\n",
        "    features[i * batch_size : (i + 1) * batch_size] = features_batch\n",
        "    labels[i * batch_size : (i + 1) * batch_size] = labels_batch\n",
        "    i += 1\n",
        "    if i * batch_size >= sample_count:\n",
        "      # Note that since generators yield data indefinitely in a loop,\n",
        "      # we must `break` after every image has been seen once.\n",
        "      break\n",
        "  return features, labels\n",
        "\n",
        "train_features, train_labels = extract_features(train_data_dir, 2890)\n",
        "validation_features, validation_labels = extract_features(validation_data_dir, 747)\n",
        "test_features, test_labels = extract_features(test_data_dir, 260)"
      ],
      "execution_count": 7,
      "outputs": [
        {
          "output_type": "stream",
          "text": [
            "Found 2890 images belonging to 2 classes.\n"
          ],
          "name": "stdout"
        },
        {
          "output_type": "stream",
          "text": [
            "/usr/local/lib/python3.6/dist-packages/PIL/Image.py:914: UserWarning: Palette images with Transparency   expressed in bytes should be converted to RGBA images\n",
            "  'to RGBA images')\n",
            "Exception ignored in: <generator object my_gen at 0x7f902073fe08>\n",
            "RuntimeError: generator ignored GeneratorExit\n"
          ],
          "name": "stderr"
        },
        {
          "output_type": "stream",
          "text": [
            "Found 747 images belonging to 2 classes.\n"
          ],
          "name": "stdout"
        },
        {
          "output_type": "stream",
          "text": [
            "Exception ignored in: <generator object my_gen at 0x7f90207c3308>\n",
            "RuntimeError: generator ignored GeneratorExit\n"
          ],
          "name": "stderr"
        },
        {
          "output_type": "stream",
          "text": [
            "Found 260 images belonging to 2 classes.\n"
          ],
          "name": "stdout"
        },
        {
          "output_type": "stream",
          "text": [
            "Exception ignored in: <generator object my_gen at 0x7f90207d10a0>\n",
            "RuntimeError: generator ignored GeneratorExit\n"
          ],
          "name": "stderr"
        }
      ]
    },
    {
      "cell_type": "code",
      "metadata": {
        "id": "8-55-Zmjiye_",
        "colab_type": "code",
        "colab": {}
      },
      "source": [
        "train_features = np.reshape(train_features, (2890, 4 * 4 * 512))\n",
        "validation_features = np.reshape(validation_features, (747, 4 * 4 * 512))\n",
        "test_features = np.reshape(test_features, (260, 4 * 4 * 512))"
      ],
      "execution_count": 0,
      "outputs": []
    },
    {
      "cell_type": "markdown",
      "metadata": {
        "id": "xtLLhybBQjG9",
        "colab_type": "text"
      },
      "source": [
        "## Adding a densely-connected classifier on top of the convolutional base"
      ]
    },
    {
      "cell_type": "code",
      "metadata": {
        "id": "OiFYcVD0oKiY",
        "colab_type": "code",
        "outputId": "3773f0d2-b828-4c6c-a499-996b665efedb",
        "colab": {
          "base_uri": "https://localhost:8080/",
          "height": 323
        }
      },
      "source": [
        "from keras import models          #Make 6 layers of VG16 model tarinable\n",
        "from keras import layers\n",
        "from keras import optimizers\n",
        "\n",
        "model = models.Sequential()\n",
        "# Fully connected layer\n",
        "model.add(layers.Dense(output_dim = 128, \n",
        "                     activation = 'relu', input_dim = 4 * 4 * 512))                # Dense layer\n",
        "model.add(layers.Dropout(0.25))                             # Dropout\n",
        "model.add(layers.Dense(output_dim = 1, \n",
        "                     activation = 'sigmoid'))             # Output\n",
        "\n",
        "model.compile(optimizer=optimizers.RMSprop(lr=2e-5),\n",
        "loss='binary_crossentropy',\n",
        "metrics=['acc'])"
      ],
      "execution_count": 9,
      "outputs": [
        {
          "output_type": "stream",
          "text": [
            "WARNING:tensorflow:From /usr/local/lib/python3.6/dist-packages/keras/backend/tensorflow_backend.py:148: The name tf.placeholder_with_default is deprecated. Please use tf.compat.v1.placeholder_with_default instead.\n",
            "\n",
            "WARNING:tensorflow:From /usr/local/lib/python3.6/dist-packages/keras/backend/tensorflow_backend.py:3733: calling dropout (from tensorflow.python.ops.nn_ops) with keep_prob is deprecated and will be removed in a future version.\n",
            "Instructions for updating:\n",
            "Please use `rate` instead of `keep_prob`. Rate should be set to `rate = 1 - keep_prob`.\n",
            "WARNING:tensorflow:From /usr/local/lib/python3.6/dist-packages/keras/optimizers.py:793: The name tf.train.Optimizer is deprecated. Please use tf.compat.v1.train.Optimizer instead.\n",
            "\n",
            "WARNING:tensorflow:From /usr/local/lib/python3.6/dist-packages/keras/backend/tensorflow_backend.py:3657: The name tf.log is deprecated. Please use tf.math.log instead.\n",
            "\n",
            "WARNING:tensorflow:From /usr/local/lib/python3.6/dist-packages/tensorflow_core/python/ops/nn_impl.py:183: where (from tensorflow.python.ops.array_ops) is deprecated and will be removed in a future version.\n",
            "Instructions for updating:\n",
            "Use tf.where in 2.0, which has the same broadcast rule as np.where\n"
          ],
          "name": "stdout"
        },
        {
          "output_type": "stream",
          "text": [
            "/usr/local/lib/python3.6/dist-packages/ipykernel_launcher.py:8: UserWarning: Update your `Dense` call to the Keras 2 API: `Dense(activation=\"relu\", input_dim=8192, units=128)`\n",
            "  \n",
            "/usr/local/lib/python3.6/dist-packages/ipykernel_launcher.py:11: UserWarning: Update your `Dense` call to the Keras 2 API: `Dense(activation=\"sigmoid\", units=1)`\n",
            "  # This is added back by InteractiveShellApp.init_path()\n"
          ],
          "name": "stderr"
        }
      ]
    },
    {
      "cell_type": "markdown",
      "metadata": {
        "id": "14Hsct9YQv_W",
        "colab_type": "text"
      },
      "source": [
        "## Summary of extended model"
      ]
    },
    {
      "cell_type": "code",
      "metadata": {
        "id": "6e781yiCQzAm",
        "colab_type": "code",
        "outputId": "356a36e6-ab99-410f-fab7-5cc1f03ab07d",
        "colab": {
          "base_uri": "https://localhost:8080/",
          "height": 267
        }
      },
      "source": [
        "model.summary()"
      ],
      "execution_count": 10,
      "outputs": [
        {
          "output_type": "stream",
          "text": [
            "Model: \"sequential_1\"\n",
            "_________________________________________________________________\n",
            "Layer (type)                 Output Shape              Param #   \n",
            "=================================================================\n",
            "dense_1 (Dense)              (None, 128)               1048704   \n",
            "_________________________________________________________________\n",
            "dropout_1 (Dropout)          (None, 128)               0         \n",
            "_________________________________________________________________\n",
            "dense_2 (Dense)              (None, 1)                 129       \n",
            "=================================================================\n",
            "Total params: 1,048,833\n",
            "Trainable params: 1,048,833\n",
            "Non-trainable params: 0\n",
            "_________________________________________________________________\n"
          ],
          "name": "stdout"
        }
      ]
    },
    {
      "cell_type": "markdown",
      "metadata": {
        "id": "gEE8iKy-jtkx",
        "colab_type": "text"
      },
      "source": [
        "##Training"
      ]
    },
    {
      "cell_type": "code",
      "metadata": {
        "id": "IinvK0A1jvMY",
        "colab_type": "code",
        "outputId": "f2434c6e-e37d-487f-c7bb-74b5386d296f",
        "colab": {
          "base_uri": "https://localhost:8080/",
          "height": 1000
        }
      },
      "source": [
        "history = model.fit(train_features, train_labels,\n",
        "                    epochs=30,\n",
        "                    batch_size=20,\n",
        "                    validation_data=(validation_features, validation_labels))"
      ],
      "execution_count": 11,
      "outputs": [
        {
          "output_type": "stream",
          "text": [
            "WARNING:tensorflow:From /usr/local/lib/python3.6/dist-packages/keras/backend/tensorflow_backend.py:1033: The name tf.assign_add is deprecated. Please use tf.compat.v1.assign_add instead.\n",
            "\n",
            "WARNING:tensorflow:From /usr/local/lib/python3.6/dist-packages/keras/backend/tensorflow_backend.py:1020: The name tf.assign is deprecated. Please use tf.compat.v1.assign instead.\n",
            "\n",
            "Train on 2890 samples, validate on 747 samples\n",
            "Epoch 1/30\n",
            "2890/2890 [==============================] - 1s 435us/step - loss: 0.5582 - acc: 0.7048 - val_loss: 0.4794 - val_acc: 0.7965\n",
            "Epoch 2/30\n",
            "2890/2890 [==============================] - 1s 326us/step - loss: 0.4037 - acc: 0.8246 - val_loss: 0.4300 - val_acc: 0.8233\n",
            "Epoch 3/30\n",
            "2890/2890 [==============================] - 1s 336us/step - loss: 0.3484 - acc: 0.8581 - val_loss: 0.4056 - val_acc: 0.8313\n",
            "Epoch 4/30\n",
            "2890/2890 [==============================] - 1s 340us/step - loss: 0.3157 - acc: 0.8754 - val_loss: 0.4269 - val_acc: 0.8206\n",
            "Epoch 5/30\n",
            "2890/2890 [==============================] - 1s 328us/step - loss: 0.2921 - acc: 0.8862 - val_loss: 0.3862 - val_acc: 0.8407\n",
            "Epoch 6/30\n",
            "2890/2890 [==============================] - 1s 331us/step - loss: 0.2677 - acc: 0.8986 - val_loss: 0.3899 - val_acc: 0.8394\n",
            "Epoch 7/30\n",
            "2890/2890 [==============================] - 1s 332us/step - loss: 0.2537 - acc: 0.9031 - val_loss: 0.3944 - val_acc: 0.8394\n",
            "Epoch 8/30\n",
            "2890/2890 [==============================] - 1s 337us/step - loss: 0.2404 - acc: 0.9076 - val_loss: 0.3686 - val_acc: 0.8367\n",
            "Epoch 9/30\n",
            "2890/2890 [==============================] - 1s 322us/step - loss: 0.2215 - acc: 0.9190 - val_loss: 0.3707 - val_acc: 0.8447\n",
            "Epoch 10/30\n",
            "2890/2890 [==============================] - 1s 310us/step - loss: 0.2155 - acc: 0.9263 - val_loss: 0.3761 - val_acc: 0.8487\n",
            "Epoch 11/30\n",
            "2890/2890 [==============================] - 1s 313us/step - loss: 0.2038 - acc: 0.9270 - val_loss: 0.3987 - val_acc: 0.8420\n",
            "Epoch 12/30\n",
            "2890/2890 [==============================] - 1s 315us/step - loss: 0.1909 - acc: 0.9329 - val_loss: 0.3642 - val_acc: 0.8474\n",
            "Epoch 13/30\n",
            "2890/2890 [==============================] - 1s 335us/step - loss: 0.1819 - acc: 0.9374 - val_loss: 0.3676 - val_acc: 0.8554\n",
            "Epoch 14/30\n",
            "2890/2890 [==============================] - 1s 324us/step - loss: 0.1730 - acc: 0.9408 - val_loss: 0.3645 - val_acc: 0.8514\n",
            "Epoch 15/30\n",
            "2890/2890 [==============================] - 1s 316us/step - loss: 0.1660 - acc: 0.9457 - val_loss: 0.3782 - val_acc: 0.8541\n",
            "Epoch 16/30\n",
            "2890/2890 [==============================] - 1s 319us/step - loss: 0.1588 - acc: 0.9450 - val_loss: 0.3709 - val_acc: 0.8541\n",
            "Epoch 17/30\n",
            "2890/2890 [==============================] - 1s 338us/step - loss: 0.1524 - acc: 0.9498 - val_loss: 0.3668 - val_acc: 0.8501\n",
            "Epoch 18/30\n",
            "2890/2890 [==============================] - 1s 320us/step - loss: 0.1459 - acc: 0.9516 - val_loss: 0.3764 - val_acc: 0.8501\n",
            "Epoch 19/30\n",
            "2890/2890 [==============================] - 1s 331us/step - loss: 0.1360 - acc: 0.9557 - val_loss: 0.3794 - val_acc: 0.8514\n",
            "Epoch 20/30\n",
            "2890/2890 [==============================] - 1s 320us/step - loss: 0.1380 - acc: 0.9599 - val_loss: 0.3799 - val_acc: 0.8487\n",
            "Epoch 21/30\n",
            "2890/2890 [==============================] - 1s 316us/step - loss: 0.1282 - acc: 0.9595 - val_loss: 0.3796 - val_acc: 0.8487\n",
            "Epoch 22/30\n",
            "2890/2890 [==============================] - 1s 335us/step - loss: 0.1220 - acc: 0.9647 - val_loss: 0.3823 - val_acc: 0.8487\n",
            "Epoch 23/30\n",
            "2890/2890 [==============================] - 1s 353us/step - loss: 0.1183 - acc: 0.9647 - val_loss: 0.3804 - val_acc: 0.8487\n",
            "Epoch 24/30\n",
            "2890/2890 [==============================] - 1s 339us/step - loss: 0.1168 - acc: 0.9633 - val_loss: 0.3841 - val_acc: 0.8487\n",
            "Epoch 25/30\n",
            "2890/2890 [==============================] - 1s 328us/step - loss: 0.1089 - acc: 0.9713 - val_loss: 0.4049 - val_acc: 0.8594\n",
            "Epoch 26/30\n",
            "2890/2890 [==============================] - 1s 335us/step - loss: 0.1049 - acc: 0.9696 - val_loss: 0.4116 - val_acc: 0.8541\n",
            "Epoch 27/30\n",
            "2890/2890 [==============================] - 1s 336us/step - loss: 0.1002 - acc: 0.9737 - val_loss: 0.4078 - val_acc: 0.8554\n",
            "Epoch 28/30\n",
            "2890/2890 [==============================] - 1s 339us/step - loss: 0.0960 - acc: 0.9734 - val_loss: 0.3955 - val_acc: 0.8501\n",
            "Epoch 29/30\n",
            "2890/2890 [==============================] - 1s 337us/step - loss: 0.0944 - acc: 0.9737 - val_loss: 0.3918 - val_acc: 0.8461\n",
            "Epoch 30/30\n",
            "2890/2890 [==============================] - 1s 342us/step - loss: 0.0869 - acc: 0.9799 - val_loss: 0.3947 - val_acc: 0.8447\n"
          ],
          "name": "stdout"
        }
      ]
    },
    {
      "cell_type": "code",
      "metadata": {
        "id": "LJQS4iNQX0th",
        "colab_type": "code",
        "outputId": "aacc6a4c-4849-4ac2-8c22-6ed87a968910",
        "colab": {
          "base_uri": "https://localhost:8080/",
          "height": 35
        }
      },
      "source": [
        "# list all data in history\n",
        "print(history.history.keys())"
      ],
      "execution_count": 12,
      "outputs": [
        {
          "output_type": "stream",
          "text": [
            "dict_keys(['val_loss', 'val_acc', 'loss', 'acc'])\n"
          ],
          "name": "stdout"
        }
      ]
    },
    {
      "cell_type": "markdown",
      "metadata": {
        "id": "QFXaAymzX1ZP",
        "colab_type": "text"
      },
      "source": [
        "## Save neural network structure"
      ]
    },
    {
      "cell_type": "code",
      "metadata": {
        "id": "nD3ZagrjX-S8",
        "colab_type": "code",
        "outputId": "ba7104b0-82c6-43e3-a0f5-aeb2203fe3fa",
        "colab": {
          "base_uri": "https://localhost:8080/",
          "height": 35
        }
      },
      "source": [
        "from pathlib import Path\n",
        "import os\n",
        "transferModelFeatExtract_structure = model.to_json()\n",
        "f = Path(\"gdrive/My Drive/Colab Notebooks/transferModelFeatExtract_structure.json\")\n",
        "f.write_text(transferModelFeatExtract_structure)"
      ],
      "execution_count": 13,
      "outputs": [
        {
          "output_type": "execute_result",
          "data": {
            "text/plain": [
              "1285"
            ]
          },
          "metadata": {
            "tags": []
          },
          "execution_count": 13
        }
      ]
    },
    {
      "cell_type": "markdown",
      "metadata": {
        "id": "UMgaRw58YFEe",
        "colab_type": "text"
      },
      "source": [
        "## Save neural network's trained weights"
      ]
    },
    {
      "cell_type": "code",
      "metadata": {
        "id": "eutOIjKwYI73",
        "colab_type": "code",
        "colab": {}
      },
      "source": [
        "# Save neural network's trained weights\n",
        "model.save_weights(\"gdrive/My Drive/Colab Notebooks/transferModelFeatExtract_weights.h5\")\n",
        "model.save('gdrive/My Drive/Colab Notebooks/transferModelFeatExtract_weights.h5')"
      ],
      "execution_count": 0,
      "outputs": []
    },
    {
      "cell_type": "markdown",
      "metadata": {
        "id": "e6ezABbHYNB4",
        "colab_type": "text"
      },
      "source": [
        "## Plot training and validation accuracy per epoch"
      ]
    },
    {
      "cell_type": "code",
      "metadata": {
        "id": "EUM3t_41YQRF",
        "colab_type": "code",
        "outputId": "8930403e-a85e-4645-dae8-0229134f7318",
        "colab": {
          "base_uri": "https://localhost:8080/",
          "height": 295
        }
      },
      "source": [
        "import matplotlib.pyplot as plt\n",
        "plt.plot(history.history['acc'])\n",
        "plt.plot(history.history['val_acc'])\n",
        "plt.title('Model Accuracy')\n",
        "plt.ylabel('Accuracy')\n",
        "plt.xlabel('Epoch')\n",
        "plt.legend(['train', 'test'], loc='upper left')\n",
        "plt.show()"
      ],
      "execution_count": 15,
      "outputs": [
        {
          "output_type": "display_data",
          "data": {
            "image/png": "[encoded data removed]",
            "text/plain": [
              "<Figure size 432x288 with 1 Axes>"
            ]
          },
          "metadata": {
            "tags": []
          }
        }
      ]
    },
    {
      "cell_type": "markdown",
      "metadata": {
        "id": "razj9vwtYUcg",
        "colab_type": "text"
      },
      "source": [
        "## Plot training and validation loss per epoch"
      ]
    },
    {
      "cell_type": "code",
      "metadata": {
        "id": "5j6ysbq7YYdL",
        "colab_type": "code",
        "outputId": "8c22fa84-7fcf-4ed4-ba69-a89f53330bdf",
        "colab": {
          "base_uri": "https://localhost:8080/",
          "height": 295
        }
      },
      "source": [
        "plt.plot(history.history['loss'])\n",
        "plt.plot(history.history['val_loss'])\n",
        "plt.title('model loss')\n",
        "plt.ylabel('loss')\n",
        "plt.xlabel('epoch')\n",
        "plt.legend(['train', 'test'], loc='upper left')\n",
        "plt.show()"
      ],
      "execution_count": 16,
      "outputs": [
        {
          "output_type": "display_data",
          "data": {
            "image/png": "[encoded data removed]",
            "text/plain": [
              "<Figure size 432x288 with 1 Axes>"
            ]
          },
          "metadata": {
            "tags": []
          }
        }
      ]
    }
  ]
}